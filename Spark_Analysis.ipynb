{
  "nbformat": 4,
  "nbformat_minor": 0,
  "metadata": {
    "colab": {
      "provenance": [],
      "authorship_tag": "ABX9TyM/a0rxzulqaItk3wvBAQoi"
    },
    "kernelspec": {
      "name": "python3",
      "display_name": "Python 3"
    },
    "language_info": {
      "name": "python"
    }
  },
  "cells": [
    {
      "cell_type": "code",
      "execution_count": null,
      "metadata": {
        "id": "G76XKTvanR5k"
      },
      "outputs": [],
      "source": [
        "# prompt: Create a dataframe\n",
        "\n",
        "import pandas as pd\n",
        "df = pd.DataFrame(data={'name': ['Alice', 'Bob', 'Carol', 'Dave'],\n",
        "                     'age': [20, 25, 30, 35]})\n"
      ]
    },
    {
      "cell_type": "code",
      "source": [
        "from pyspark import SparkConf, SparkContext\n",
        "import collections\n",
        "\n",
        "#Creating a configure for Spark Context\n",
        "conf = SparkConf().setMaster(\"local\").setAppName(\"RatingsHistogram\")\n",
        "\n",
        "#Creating a spark context based on the config given\n",
        "sc = SparkContext(conf = conf)\n",
        "\n",
        "\n",
        "lines = sc.textFile(\"C:\\\\Users\\\\Tejas.Pathak\\\\Downloads\\\\ml-100k\\\\u.data\")\n",
        "\n",
        "\n",
        "\n"
      ],
      "metadata": {
        "id": "blVKJEj3nadj"
      },
      "execution_count": null,
      "outputs": []
    },
    {
      "cell_type": "code",
      "source": [
        "ratings = lines.map(lambda x: x.split()[1])\n",
        "print(ratings)"
      ],
      "metadata": {
        "colab": {
          "base_uri": "https://localhost:8080/"
        },
        "id": "XUAuP6CrB3bx",
        "outputId": "0e2f40cd-30ff-428b-f12e-5d4cd63c9642"
      },
      "execution_count": null,
      "outputs": [
        {
          "output_type": "stream",
          "name": "stdout",
          "text": [
            "PythonRDD[8] at RDD at PythonRDD.scala:53\n"
          ]
        }
      ]
    },
    {
      "cell_type": "code",
      "source": [
        "import pyspark"
      ],
      "metadata": {
        "id": "xbBzcJGDGaPC"
      },
      "execution_count": null,
      "outputs": []
    },
    {
      "cell_type": "code",
      "source": [
        "import pandas as pd\n",
        "pd.read_csv(\"C:\\\\Users\\\\Tejas.Pathak\\\\Downloads\\\\test1.csv\")"
      ],
      "metadata": {
        "colab": {
          "base_uri": "https://localhost:8080/",
          "height": 356
        },
        "id": "tMW4kBFqGaWh",
        "outputId": "5c0a25b6-475c-410a-87cc-ebfd062c004e"
      },
      "execution_count": 27,
      "outputs": [
        {
          "output_type": "error",
          "ename": "FileNotFoundError",
          "evalue": "ignored",
          "traceback": [
            "\u001b[0;31m---------------------------------------------------------------------------\u001b[0m",
            "\u001b[0;31mFileNotFoundError\u001b[0m                         Traceback (most recent call last)",
            "\u001b[0;32m<ipython-input-27-b595c84fc54d>\u001b[0m in \u001b[0;36m<cell line: 2>\u001b[0;34m()\u001b[0m\n\u001b[1;32m      1\u001b[0m \u001b[0;32mimport\u001b[0m \u001b[0mpandas\u001b[0m \u001b[0;32mas\u001b[0m \u001b[0mpd\u001b[0m\u001b[0;34m\u001b[0m\u001b[0;34m\u001b[0m\u001b[0m\n\u001b[0;32m----> 2\u001b[0;31m \u001b[0mpd\u001b[0m\u001b[0;34m.\u001b[0m\u001b[0mread_csv\u001b[0m\u001b[0;34m(\u001b[0m\u001b[0;34m\"C:\\\\Users\\\\Tejas.Pathak\\\\Downloads\\\\test1.csv\"\u001b[0m\u001b[0;34m)\u001b[0m\u001b[0;34m\u001b[0m\u001b[0;34m\u001b[0m\u001b[0m\n\u001b[0m",
            "\u001b[0;32m/usr/local/lib/python3.10/dist-packages/pandas/util/_decorators.py\u001b[0m in \u001b[0;36mwrapper\u001b[0;34m(*args, **kwargs)\u001b[0m\n\u001b[1;32m    209\u001b[0m                 \u001b[0;32melse\u001b[0m\u001b[0;34m:\u001b[0m\u001b[0;34m\u001b[0m\u001b[0;34m\u001b[0m\u001b[0m\n\u001b[1;32m    210\u001b[0m                     \u001b[0mkwargs\u001b[0m\u001b[0;34m[\u001b[0m\u001b[0mnew_arg_name\u001b[0m\u001b[0;34m]\u001b[0m \u001b[0;34m=\u001b[0m \u001b[0mnew_arg_value\u001b[0m\u001b[0;34m\u001b[0m\u001b[0;34m\u001b[0m\u001b[0m\n\u001b[0;32m--> 211\u001b[0;31m             \u001b[0;32mreturn\u001b[0m \u001b[0mfunc\u001b[0m\u001b[0;34m(\u001b[0m\u001b[0;34m*\u001b[0m\u001b[0margs\u001b[0m\u001b[0;34m,\u001b[0m \u001b[0;34m**\u001b[0m\u001b[0mkwargs\u001b[0m\u001b[0;34m)\u001b[0m\u001b[0;34m\u001b[0m\u001b[0;34m\u001b[0m\u001b[0m\n\u001b[0m\u001b[1;32m    212\u001b[0m \u001b[0;34m\u001b[0m\u001b[0m\n\u001b[1;32m    213\u001b[0m         \u001b[0;32mreturn\u001b[0m \u001b[0mcast\u001b[0m\u001b[0;34m(\u001b[0m\u001b[0mF\u001b[0m\u001b[0;34m,\u001b[0m \u001b[0mwrapper\u001b[0m\u001b[0;34m)\u001b[0m\u001b[0;34m\u001b[0m\u001b[0;34m\u001b[0m\u001b[0m\n",
            "\u001b[0;32m/usr/local/lib/python3.10/dist-packages/pandas/util/_decorators.py\u001b[0m in \u001b[0;36mwrapper\u001b[0;34m(*args, **kwargs)\u001b[0m\n\u001b[1;32m    329\u001b[0m                     \u001b[0mstacklevel\u001b[0m\u001b[0;34m=\u001b[0m\u001b[0mfind_stack_level\u001b[0m\u001b[0;34m(\u001b[0m\u001b[0;34m)\u001b[0m\u001b[0;34m,\u001b[0m\u001b[0;34m\u001b[0m\u001b[0;34m\u001b[0m\u001b[0m\n\u001b[1;32m    330\u001b[0m                 )\n\u001b[0;32m--> 331\u001b[0;31m             \u001b[0;32mreturn\u001b[0m \u001b[0mfunc\u001b[0m\u001b[0;34m(\u001b[0m\u001b[0;34m*\u001b[0m\u001b[0margs\u001b[0m\u001b[0;34m,\u001b[0m \u001b[0;34m**\u001b[0m\u001b[0mkwargs\u001b[0m\u001b[0;34m)\u001b[0m\u001b[0;34m\u001b[0m\u001b[0;34m\u001b[0m\u001b[0m\n\u001b[0m\u001b[1;32m    332\u001b[0m \u001b[0;34m\u001b[0m\u001b[0m\n\u001b[1;32m    333\u001b[0m         \u001b[0;31m# error: \"Callable[[VarArg(Any), KwArg(Any)], Any]\" has no\u001b[0m\u001b[0;34m\u001b[0m\u001b[0;34m\u001b[0m\u001b[0m\n",
            "\u001b[0;32m/usr/local/lib/python3.10/dist-packages/pandas/io/parsers/readers.py\u001b[0m in \u001b[0;36mread_csv\u001b[0;34m(filepath_or_buffer, sep, delimiter, header, names, index_col, usecols, squeeze, prefix, mangle_dupe_cols, dtype, engine, converters, true_values, false_values, skipinitialspace, skiprows, skipfooter, nrows, na_values, keep_default_na, na_filter, verbose, skip_blank_lines, parse_dates, infer_datetime_format, keep_date_col, date_parser, dayfirst, cache_dates, iterator, chunksize, compression, thousands, decimal, lineterminator, quotechar, quoting, doublequote, escapechar, comment, encoding, encoding_errors, dialect, error_bad_lines, warn_bad_lines, on_bad_lines, delim_whitespace, low_memory, memory_map, float_precision, storage_options)\u001b[0m\n\u001b[1;32m    948\u001b[0m     \u001b[0mkwds\u001b[0m\u001b[0;34m.\u001b[0m\u001b[0mupdate\u001b[0m\u001b[0;34m(\u001b[0m\u001b[0mkwds_defaults\u001b[0m\u001b[0;34m)\u001b[0m\u001b[0;34m\u001b[0m\u001b[0;34m\u001b[0m\u001b[0m\n\u001b[1;32m    949\u001b[0m \u001b[0;34m\u001b[0m\u001b[0m\n\u001b[0;32m--> 950\u001b[0;31m     \u001b[0;32mreturn\u001b[0m \u001b[0m_read\u001b[0m\u001b[0;34m(\u001b[0m\u001b[0mfilepath_or_buffer\u001b[0m\u001b[0;34m,\u001b[0m \u001b[0mkwds\u001b[0m\u001b[0;34m)\u001b[0m\u001b[0;34m\u001b[0m\u001b[0;34m\u001b[0m\u001b[0m\n\u001b[0m\u001b[1;32m    951\u001b[0m \u001b[0;34m\u001b[0m\u001b[0m\n\u001b[1;32m    952\u001b[0m \u001b[0;34m\u001b[0m\u001b[0m\n",
            "\u001b[0;32m/usr/local/lib/python3.10/dist-packages/pandas/io/parsers/readers.py\u001b[0m in \u001b[0;36m_read\u001b[0;34m(filepath_or_buffer, kwds)\u001b[0m\n\u001b[1;32m    603\u001b[0m \u001b[0;34m\u001b[0m\u001b[0m\n\u001b[1;32m    604\u001b[0m     \u001b[0;31m# Create the parser.\u001b[0m\u001b[0;34m\u001b[0m\u001b[0;34m\u001b[0m\u001b[0m\n\u001b[0;32m--> 605\u001b[0;31m     \u001b[0mparser\u001b[0m \u001b[0;34m=\u001b[0m \u001b[0mTextFileReader\u001b[0m\u001b[0;34m(\u001b[0m\u001b[0mfilepath_or_buffer\u001b[0m\u001b[0;34m,\u001b[0m \u001b[0;34m**\u001b[0m\u001b[0mkwds\u001b[0m\u001b[0;34m)\u001b[0m\u001b[0;34m\u001b[0m\u001b[0;34m\u001b[0m\u001b[0m\n\u001b[0m\u001b[1;32m    606\u001b[0m \u001b[0;34m\u001b[0m\u001b[0m\n\u001b[1;32m    607\u001b[0m     \u001b[0;32mif\u001b[0m \u001b[0mchunksize\u001b[0m \u001b[0;32mor\u001b[0m \u001b[0miterator\u001b[0m\u001b[0;34m:\u001b[0m\u001b[0;34m\u001b[0m\u001b[0;34m\u001b[0m\u001b[0m\n",
            "\u001b[0;32m/usr/local/lib/python3.10/dist-packages/pandas/io/parsers/readers.py\u001b[0m in \u001b[0;36m__init__\u001b[0;34m(self, f, engine, **kwds)\u001b[0m\n\u001b[1;32m   1440\u001b[0m \u001b[0;34m\u001b[0m\u001b[0m\n\u001b[1;32m   1441\u001b[0m         \u001b[0mself\u001b[0m\u001b[0;34m.\u001b[0m\u001b[0mhandles\u001b[0m\u001b[0;34m:\u001b[0m \u001b[0mIOHandles\u001b[0m \u001b[0;34m|\u001b[0m \u001b[0;32mNone\u001b[0m \u001b[0;34m=\u001b[0m \u001b[0;32mNone\u001b[0m\u001b[0;34m\u001b[0m\u001b[0;34m\u001b[0m\u001b[0m\n\u001b[0;32m-> 1442\u001b[0;31m         \u001b[0mself\u001b[0m\u001b[0;34m.\u001b[0m\u001b[0m_engine\u001b[0m \u001b[0;34m=\u001b[0m \u001b[0mself\u001b[0m\u001b[0;34m.\u001b[0m\u001b[0m_make_engine\u001b[0m\u001b[0;34m(\u001b[0m\u001b[0mf\u001b[0m\u001b[0;34m,\u001b[0m \u001b[0mself\u001b[0m\u001b[0;34m.\u001b[0m\u001b[0mengine\u001b[0m\u001b[0;34m)\u001b[0m\u001b[0;34m\u001b[0m\u001b[0;34m\u001b[0m\u001b[0m\n\u001b[0m\u001b[1;32m   1443\u001b[0m \u001b[0;34m\u001b[0m\u001b[0m\n\u001b[1;32m   1444\u001b[0m     \u001b[0;32mdef\u001b[0m \u001b[0mclose\u001b[0m\u001b[0;34m(\u001b[0m\u001b[0mself\u001b[0m\u001b[0;34m)\u001b[0m \u001b[0;34m->\u001b[0m \u001b[0;32mNone\u001b[0m\u001b[0;34m:\u001b[0m\u001b[0;34m\u001b[0m\u001b[0;34m\u001b[0m\u001b[0m\n",
            "\u001b[0;32m/usr/local/lib/python3.10/dist-packages/pandas/io/parsers/readers.py\u001b[0m in \u001b[0;36m_make_engine\u001b[0;34m(self, f, engine)\u001b[0m\n\u001b[1;32m   1733\u001b[0m                 \u001b[0;32mif\u001b[0m \u001b[0;34m\"b\"\u001b[0m \u001b[0;32mnot\u001b[0m \u001b[0;32min\u001b[0m \u001b[0mmode\u001b[0m\u001b[0;34m:\u001b[0m\u001b[0;34m\u001b[0m\u001b[0;34m\u001b[0m\u001b[0m\n\u001b[1;32m   1734\u001b[0m                     \u001b[0mmode\u001b[0m \u001b[0;34m+=\u001b[0m \u001b[0;34m\"b\"\u001b[0m\u001b[0;34m\u001b[0m\u001b[0;34m\u001b[0m\u001b[0m\n\u001b[0;32m-> 1735\u001b[0;31m             self.handles = get_handle(\n\u001b[0m\u001b[1;32m   1736\u001b[0m                 \u001b[0mf\u001b[0m\u001b[0;34m,\u001b[0m\u001b[0;34m\u001b[0m\u001b[0;34m\u001b[0m\u001b[0m\n\u001b[1;32m   1737\u001b[0m                 \u001b[0mmode\u001b[0m\u001b[0;34m,\u001b[0m\u001b[0;34m\u001b[0m\u001b[0;34m\u001b[0m\u001b[0m\n",
            "\u001b[0;32m/usr/local/lib/python3.10/dist-packages/pandas/io/common.py\u001b[0m in \u001b[0;36mget_handle\u001b[0;34m(path_or_buf, mode, encoding, compression, memory_map, is_text, errors, storage_options)\u001b[0m\n\u001b[1;32m    854\u001b[0m         \u001b[0;32mif\u001b[0m \u001b[0mioargs\u001b[0m\u001b[0;34m.\u001b[0m\u001b[0mencoding\u001b[0m \u001b[0;32mand\u001b[0m \u001b[0;34m\"b\"\u001b[0m \u001b[0;32mnot\u001b[0m \u001b[0;32min\u001b[0m \u001b[0mioargs\u001b[0m\u001b[0;34m.\u001b[0m\u001b[0mmode\u001b[0m\u001b[0;34m:\u001b[0m\u001b[0;34m\u001b[0m\u001b[0;34m\u001b[0m\u001b[0m\n\u001b[1;32m    855\u001b[0m             \u001b[0;31m# Encoding\u001b[0m\u001b[0;34m\u001b[0m\u001b[0;34m\u001b[0m\u001b[0m\n\u001b[0;32m--> 856\u001b[0;31m             handle = open(\n\u001b[0m\u001b[1;32m    857\u001b[0m                 \u001b[0mhandle\u001b[0m\u001b[0;34m,\u001b[0m\u001b[0;34m\u001b[0m\u001b[0;34m\u001b[0m\u001b[0m\n\u001b[1;32m    858\u001b[0m                 \u001b[0mioargs\u001b[0m\u001b[0;34m.\u001b[0m\u001b[0mmode\u001b[0m\u001b[0;34m,\u001b[0m\u001b[0;34m\u001b[0m\u001b[0;34m\u001b[0m\u001b[0m\n",
            "\u001b[0;31mFileNotFoundError\u001b[0m: [Errno 2] No such file or directory: 'C:\\\\Users\\\\Tejas.Pathak\\\\Downloads\\\\test1.csv'"
          ]
        }
      ]
    },
    {
      "cell_type": "code",
      "source": [
        "from pyspark.sql import SparkSession"
      ],
      "metadata": {
        "id": "tYPuVqStHuCh"
      },
      "execution_count": 28,
      "outputs": []
    },
    {
      "cell_type": "code",
      "source": [
        "spark = SparkSession.builder.appName('Practice').getOrCreate()"
      ],
      "metadata": {
        "id": "4QULOM8hH1RD"
      },
      "execution_count": 29,
      "outputs": []
    },
    {
      "cell_type": "code",
      "source": [
        "spark"
      ],
      "metadata": {
        "colab": {
          "base_uri": "https://localhost:8080/",
          "height": 219
        },
        "id": "LzXnWuMOH_QP",
        "outputId": "25793c36-ca58-4f74-a5e3-03f176effcdd"
      },
      "execution_count": 30,
      "outputs": [
        {
          "output_type": "execute_result",
          "data": {
            "text/plain": [
              "<pyspark.sql.session.SparkSession at 0x7bc57bcd4df0>"
            ],
            "text/html": [
              "\n",
              "            <div>\n",
              "                <p><b>SparkSession - in-memory</b></p>\n",
              "                \n",
              "        <div>\n",
              "            <p><b>SparkContext</b></p>\n",
              "\n",
              "            <p><a href=\"http://4dccba338100:4040\">Spark UI</a></p>\n",
              "\n",
              "            <dl>\n",
              "              <dt>Version</dt>\n",
              "                <dd><code>v3.5.0</code></dd>\n",
              "              <dt>Master</dt>\n",
              "                <dd><code>local</code></dd>\n",
              "              <dt>AppName</dt>\n",
              "                <dd><code>RatingsHistogram</code></dd>\n",
              "            </dl>\n",
              "        </div>\n",
              "        \n",
              "            </div>\n",
              "        "
            ]
          },
          "metadata": {},
          "execution_count": 30
        }
      ]
    },
    {
      "cell_type": "code",
      "source": [
        "df_pyspark = spark.read.csv(\"test1.csv\")"
      ],
      "metadata": {
        "id": "9XQ48RyyIEYQ"
      },
      "execution_count": 50,
      "outputs": []
    },
    {
      "cell_type": "code",
      "source": [
        "df_pyspark = spark.read.option('header','true').csv('test1.csv')"
      ],
      "metadata": {
        "id": "Gi0xgvayItSt"
      },
      "execution_count": 52,
      "outputs": []
    },
    {
      "cell_type": "code",
      "source": [
        "type(df_pyspark)"
      ],
      "metadata": {
        "colab": {
          "base_uri": "https://localhost:8080/"
        },
        "id": "Zu6LxwlZIybD",
        "outputId": "ae771f09-049c-470d-f8f4-8f70078ae55d"
      },
      "execution_count": 53,
      "outputs": [
        {
          "output_type": "execute_result",
          "data": {
            "text/plain": [
              "pyspark.sql.dataframe.DataFrame"
            ]
          },
          "metadata": {},
          "execution_count": 53
        }
      ]
    },
    {
      "cell_type": "code",
      "source": [
        "df_pyspark.head(3)"
      ],
      "metadata": {
        "colab": {
          "base_uri": "https://localhost:8080/"
        },
        "id": "kdgXH-inJXYI",
        "outputId": "3b70bae9-f892-4768-95a6-413476016c55"
      },
      "execution_count": 55,
      "outputs": [
        {
          "output_type": "execute_result",
          "data": {
            "text/plain": [
              "[Row(Name='Tejas', age='23'),\n",
              " Row(Name='Anurag', age='27'),\n",
              " Row(Name='Krish', age='32')]"
            ]
          },
          "metadata": {},
          "execution_count": 55
        }
      ]
    },
    {
      "cell_type": "code",
      "source": [
        "df_pyspark.printSchema()"
      ],
      "metadata": {
        "colab": {
          "base_uri": "https://localhost:8080/"
        },
        "id": "AUn9SXz3JuLj",
        "outputId": "7313f356-6f42-465e-f7c0-4c75a026276b"
      },
      "execution_count": 56,
      "outputs": [
        {
          "output_type": "stream",
          "name": "stdout",
          "text": [
            "root\n",
            " |-- Name: string (nullable = true)\n",
            " |-- age: string (nullable = true)\n",
            "\n"
          ]
        }
      ]
    },
    {
      "cell_type": "code",
      "source": [
        "df_pyspark = spark.read.option('header','true').csv('test1.csv', inferSchema = True)"
      ],
      "metadata": {
        "id": "7tI3xaGRKCex"
      },
      "execution_count": 63,
      "outputs": []
    },
    {
      "cell_type": "code",
      "source": [
        "df_pyspark.show()"
      ],
      "metadata": {
        "colab": {
          "base_uri": "https://localhost:8080/"
        },
        "id": "lBQa0iw6K35t",
        "outputId": "072957bc-ad01-4595-844a-e02e0048b43d"
      },
      "execution_count": 64,
      "outputs": [
        {
          "output_type": "stream",
          "name": "stdout",
          "text": [
            "+------+---+----------+\n",
            "|  Name|age|Experience|\n",
            "+------+---+----------+\n",
            "| Tejas| 23|         9|\n",
            "|Anurag| 27|         3|\n",
            "| Krish| 32|        21|\n",
            "+------+---+----------+\n",
            "\n"
          ]
        }
      ]
    },
    {
      "cell_type": "code",
      "source": [
        "###Check the schema\n",
        "df_pyspark.printSchema()"
      ],
      "metadata": {
        "colab": {
          "base_uri": "https://localhost:8080/"
        },
        "id": "V_2kN68oK2us",
        "outputId": "2f1d7eac-a37c-49a1-9b93-276209fac4cc"
      },
      "execution_count": 65,
      "outputs": [
        {
          "output_type": "stream",
          "name": "stdout",
          "text": [
            "root\n",
            " |-- Name: string (nullable = true)\n",
            " |-- age: integer (nullable = true)\n",
            " |-- Experience: integer (nullable = true)\n",
            "\n"
          ]
        }
      ]
    },
    {
      "cell_type": "code",
      "source": [
        "df_pyspark = spark.read.csv('test1.csv', header = True, inferSchema = True)\n",
        "df_pyspark.show()"
      ],
      "metadata": {
        "colab": {
          "base_uri": "https://localhost:8080/"
        },
        "id": "218rDeBJLH8g",
        "outputId": "92e0662e-9a01-4c5f-95e2-97b0094542fc"
      },
      "execution_count": 66,
      "outputs": [
        {
          "output_type": "stream",
          "name": "stdout",
          "text": [
            "+------+---+----------+\n",
            "|  Name|age|Experience|\n",
            "+------+---+----------+\n",
            "| Tejas| 23|         9|\n",
            "|Anurag| 27|         3|\n",
            "| Krish| 32|        21|\n",
            "+------+---+----------+\n",
            "\n"
          ]
        }
      ]
    },
    {
      "cell_type": "code",
      "source": [
        "type(df_pyspark)"
      ],
      "metadata": {
        "colab": {
          "base_uri": "https://localhost:8080/"
        },
        "id": "rL23LzRtLf22",
        "outputId": "5550b9c8-b1cf-4f27-f158-23a8953e9c9d"
      },
      "execution_count": 67,
      "outputs": [
        {
          "output_type": "execute_result",
          "data": {
            "text/plain": [
              "pyspark.sql.dataframe.DataFrame"
            ]
          },
          "metadata": {},
          "execution_count": 67
        }
      ]
    },
    {
      "cell_type": "code",
      "source": [
        "df_pyspark.columns"
      ],
      "metadata": {
        "colab": {
          "base_uri": "https://localhost:8080/"
        },
        "id": "0yOXk33NLlPa",
        "outputId": "098c132b-8d10-4234-a41d-6eb0cc522314"
      },
      "execution_count": 68,
      "outputs": [
        {
          "output_type": "execute_result",
          "data": {
            "text/plain": [
              "['Name', 'age', 'Experience']"
            ]
          },
          "metadata": {},
          "execution_count": 68
        }
      ]
    },
    {
      "cell_type": "code",
      "source": [
        "df_pyspark.head(3)\n"
      ],
      "metadata": {
        "colab": {
          "base_uri": "https://localhost:8080/"
        },
        "id": "_TEW9nmqLxFv",
        "outputId": "4010c0ac-2352-4b3c-c860-5fb5aff14345"
      },
      "execution_count": 69,
      "outputs": [
        {
          "output_type": "execute_result",
          "data": {
            "text/plain": [
              "[Row(Name='Tejas', age=23, Experience=9),\n",
              " Row(Name='Anurag', age=27, Experience=3),\n",
              " Row(Name='Krish', age=32, Experience=21)]"
            ]
          },
          "metadata": {},
          "execution_count": 69
        }
      ]
    },
    {
      "cell_type": "code",
      "source": [
        "df_pyspark.select(['Name', 'Experience']).show()"
      ],
      "metadata": {
        "colab": {
          "base_uri": "https://localhost:8080/"
        },
        "id": "eRaxLSHRL2Fg",
        "outputId": "b921e6af-f261-442a-ed6e-973afe52ce2e"
      },
      "execution_count": 72,
      "outputs": [
        {
          "output_type": "execute_result",
          "data": {
            "text/plain": [
              "DataFrame[Name: string]"
            ]
          },
          "metadata": {},
          "execution_count": 72
        }
      ]
    },
    {
      "cell_type": "code",
      "source": [
        "#Getting the data types\n",
        "df_pyspark.dtypes"
      ],
      "metadata": {
        "colab": {
          "base_uri": "https://localhost:8080/"
        },
        "id": "lr-A7X4oMEvW",
        "outputId": "7e2af1bc-6bf8-44cf-9936-6ed47cc48ccf"
      },
      "execution_count": 75,
      "outputs": [
        {
          "output_type": "execute_result",
          "data": {
            "text/plain": [
              "[('Name', 'string'), ('age', 'int'), ('Experience', 'int')]"
            ]
          },
          "metadata": {},
          "execution_count": 75
        }
      ]
    },
    {
      "cell_type": "code",
      "source": [
        "df_pyspark.describe().show()"
      ],
      "metadata": {
        "colab": {
          "base_uri": "https://localhost:8080/"
        },
        "id": "MyAS7_CkMkei",
        "outputId": "b35336a9-de0d-4308-da63-43f4d9b2ef9d"
      },
      "execution_count": 77,
      "outputs": [
        {
          "output_type": "stream",
          "name": "stdout",
          "text": [
            "+-------+------+------------------+----------------+\n",
            "|summary|  Name|               age|      Experience|\n",
            "+-------+------+------------------+----------------+\n",
            "|  count|     3|                 3|               3|\n",
            "|   mean|  NULL|27.333333333333332|            11.0|\n",
            "| stddev|  NULL| 4.509249752822894|9.16515138991168|\n",
            "|    min|Anurag|                23|               3|\n",
            "|    max| Tejas|                32|              21|\n",
            "+-------+------+------------------+----------------+\n",
            "\n"
          ]
        }
      ]
    },
    {
      "cell_type": "code",
      "source": [
        "#How to add columns in dataframe\n",
        "\n",
        "df_pyspark =  df_pyspark.withColumn('Experience After 2 year', df_pyspark['Experience']+2)"
      ],
      "metadata": {
        "id": "51R991qSM1L-"
      },
      "execution_count": 80,
      "outputs": []
    },
    {
      "cell_type": "code",
      "source": [
        "df_pyspark.show()"
      ],
      "metadata": {
        "colab": {
          "base_uri": "https://localhost:8080/"
        },
        "id": "dVMpynaZNOvz",
        "outputId": "cd022d64-90c9-467f-c908-feb273728503"
      },
      "execution_count": 81,
      "outputs": [
        {
          "output_type": "stream",
          "name": "stdout",
          "text": [
            "+------+---+----------+-----------------------+\n",
            "|  Name|age|Experience|Experience After 2 year|\n",
            "+------+---+----------+-----------------------+\n",
            "| Tejas| 23|         9|                     11|\n",
            "|Anurag| 27|         3|                      5|\n",
            "| Krish| 32|        21|                     23|\n",
            "+------+---+----------+-----------------------+\n",
            "\n"
          ]
        }
      ]
    },
    {
      "cell_type": "code",
      "source": [
        "#How to drop the columns\n",
        "\n",
        "df_pyspark = df_pyspark.drop('Experience')"
      ],
      "metadata": {
        "colab": {
          "base_uri": "https://localhost:8080/"
        },
        "id": "pVTNszNANcDl",
        "outputId": "bd1757bd-923d-4f14-dfab-63abf6831b0d"
      },
      "execution_count": 82,
      "outputs": [
        {
          "output_type": "execute_result",
          "data": {
            "text/plain": [
              "DataFrame[Name: string, age: int, Experience After 2 year: int]"
            ]
          },
          "metadata": {},
          "execution_count": 82
        }
      ]
    },
    {
      "cell_type": "code",
      "source": [
        "df_pyspark.show()"
      ],
      "metadata": {
        "colab": {
          "base_uri": "https://localhost:8080/"
        },
        "id": "itk4WKwoNiv-",
        "outputId": "f4599ec7-dd4f-4817-fbae-29046829d06e"
      },
      "execution_count": 84,
      "outputs": [
        {
          "output_type": "stream",
          "name": "stdout",
          "text": [
            "+------+---+----------+-----------------------+\n",
            "|  Name|age|Experience|Experience After 2 year|\n",
            "+------+---+----------+-----------------------+\n",
            "| Tejas| 23|         9|                     11|\n",
            "|Anurag| 27|         3|                      5|\n",
            "| Krish| 32|        21|                     23|\n",
            "+------+---+----------+-----------------------+\n",
            "\n"
          ]
        }
      ]
    },
    {
      "cell_type": "code",
      "source": [
        "#Renaming the columns\n",
        "\n",
        "df_pyspark.withColumnsRenamed('Name','NewName')"
      ],
      "metadata": {
        "colab": {
          "base_uri": "https://localhost:8080/",
          "height": 211
        },
        "id": "x6S31ZMENy4T",
        "outputId": "e5391b57-abdb-4424-8365-10eec9ffa699"
      },
      "execution_count": 87,
      "outputs": [
        {
          "output_type": "error",
          "ename": "TypeError",
          "evalue": "ignored",
          "traceback": [
            "\u001b[0;31m---------------------------------------------------------------------------\u001b[0m",
            "\u001b[0;31mTypeError\u001b[0m                                 Traceback (most recent call last)",
            "\u001b[0;32m<ipython-input-87-d6788c7b7c09>\u001b[0m in \u001b[0;36m<cell line: 3>\u001b[0;34m()\u001b[0m\n\u001b[1;32m      1\u001b[0m \u001b[0;31m#Renaming the columns\u001b[0m\u001b[0;34m\u001b[0m\u001b[0;34m\u001b[0m\u001b[0m\n\u001b[1;32m      2\u001b[0m \u001b[0;34m\u001b[0m\u001b[0m\n\u001b[0;32m----> 3\u001b[0;31m \u001b[0mdf_pyspark\u001b[0m\u001b[0;34m.\u001b[0m\u001b[0mwithColumnsRenamed\u001b[0m\u001b[0;34m(\u001b[0m\u001b[0;34m'Name'\u001b[0m\u001b[0;34m,\u001b[0m\u001b[0;34m'NewName'\u001b[0m\u001b[0;34m)\u001b[0m\u001b[0;34m.\u001b[0m\u001b[0mshow\u001b[0m\u001b[0;34m(\u001b[0m\u001b[0;34m)\u001b[0m\u001b[0;34m\u001b[0m\u001b[0;34m\u001b[0m\u001b[0m\n\u001b[0m",
            "\u001b[0;31mTypeError\u001b[0m: DataFrame.withColumnsRenamed() takes 2 positional arguments but 3 were given"
          ]
        }
      ]
    },
    {
      "cell_type": "code",
      "source": [
        "pip install pyspark\n"
      ],
      "metadata": {
        "colab": {
          "base_uri": "https://localhost:8080/"
        },
        "id": "z7azX-Y9gjwy",
        "outputId": "c6fcd719-2a4d-4265-a83b-6c0a0103cbd1"
      },
      "execution_count": 1,
      "outputs": [
        {
          "output_type": "stream",
          "name": "stdout",
          "text": [
            "Collecting pyspark\n",
            "  Downloading pyspark-3.5.0.tar.gz (316.9 MB)\n",
            "\u001b[2K     \u001b[90m━━━━━━━━━━━━━━━━━━━━━━━━━━━━━━━━━━━━━━━━\u001b[0m \u001b[32m316.9/316.9 MB\u001b[0m \u001b[31m4.5 MB/s\u001b[0m eta \u001b[36m0:00:00\u001b[0m\n",
            "\u001b[?25h  Preparing metadata (setup.py) ... \u001b[?25l\u001b[?25hdone\n",
            "Requirement already satisfied: py4j==0.10.9.7 in /usr/local/lib/python3.10/dist-packages (from pyspark) (0.10.9.7)\n",
            "Building wheels for collected packages: pyspark\n",
            "  Building wheel for pyspark (setup.py) ... \u001b[?25l\u001b[?25hdone\n",
            "  Created wheel for pyspark: filename=pyspark-3.5.0-py2.py3-none-any.whl size=317425345 sha256=04f59f8d17958a9a2a325052ca19be273211c8487193c25a2f038887d2a365ac\n",
            "  Stored in directory: /root/.cache/pip/wheels/41/4e/10/c2cf2467f71c678cfc8a6b9ac9241e5e44a01940da8fbb17fc\n",
            "Successfully built pyspark\n",
            "Installing collected packages: pyspark\n",
            "Successfully installed pyspark-3.5.0\n"
          ]
        }
      ]
    },
    {
      "cell_type": "code",
      "source": [
        "from pyspark.sql import SparkSession\n",
        "\n",
        "spark = SparkSession.builder.appName('Spark_app').getOrCreate()\n",
        "\n"
      ],
      "metadata": {
        "id": "RcuhoAvpg1_-"
      },
      "execution_count": 2,
      "outputs": []
    },
    {
      "cell_type": "code",
      "source": [
        "case_df = spark.read.csv('my file.csv', header = True, inferSchema = True)"
      ],
      "metadata": {
        "id": "3MkhtFkFhHiy"
      },
      "execution_count": 3,
      "outputs": []
    },
    {
      "cell_type": "code",
      "source": [
        "case_df.show()"
      ],
      "metadata": {
        "colab": {
          "base_uri": "https://localhost:8080/"
        },
        "id": "1oDF8mx1hbFD",
        "outputId": "d748619d-d15a-4973-a3a7-f39cbd944533"
      },
      "execution_count": 4,
      "outputs": [
        {
          "output_type": "stream",
          "name": "stdout",
          "text": [
            "+-------+------------+--------------------+--------------------+--------------+--------------+----------+---------------+\n",
            "|case_id|authority_id|      attribute_name|  attribute_category|         value|value_category|value_code|in_case_summary|\n",
            "+-------+------------+--------------------+--------------------+--------------+--------------+----------+---------------+\n",
            "|1689336|         600| Client project code|      Legal - Client|          NULL|          NULL|      NULL|            Yes|\n",
            "|1689336|         600|      Account number|      Legal - Client|          NULL|          NULL|      NULL|            Yes|\n",
            "|1689336|         600|               Title|        Legal - Case|Advice on case|          NULL|      NULL|            Yes|\n",
            "|1689336|         600|             Summary|        Legal - Case|          NULL|          NULL|      NULL|            Yes|\n",
            "|1689336|         600|  External reference|        Legal - Case|          NULL|          NULL|      NULL|             No|\n",
            "|1689336|         600|     Court reference|        Legal - Case|          NULL|          NULL|      NULL|             No|\n",
            "|1689336|         600|    MOSAIC reference|        Legal - Case|          NULL|          NULL|      NULL|             No|\n",
            "|1689336|         600|    Other colleagues|        Legal - Case|          NULL|          NULL|      NULL|             No|\n",
            "|1689336|         600|Have you checked ...|Conflict of interest|           Yes|          NULL|      NULL|             No|\n",
            "|1689336|         600|Did you identify ...|Conflict of interest|            No|          NULL|      NULL|             No|\n",
            "|1689336|         600|Original level of...|        Legal - Risk|           Low|          NULL|      NULL|             No|\n",
            "|1689336|         600|Estimated charge ...|        Legal - Case|          0.00|          NULL|      NULL|             No|\n",
            "|1689336|         600|Estimated disburs...|        Legal - Case|          0.00|          NULL|      NULL|             No|\n",
            "|1689336|         600|Adult respondents...|Adult social serv...|          NULL|          NULL|      NULL|             No|\n",
            "|1689336|         600|  Adult claim number|Adult social serv...|          NULL|          NULL|      NULL|             No|\n",
            "|1689336|         600|Adult first heari...|Adult social serv...|          NULL|          NULL|      NULL|             No|\n",
            "|1689336|         600|Adult first heari...|Adult social serv...|          NULL|          NULL|      NULL|             No|\n",
            "|1689336|         600|Adult second hear...|Adult social serv...|          NULL|          NULL|      NULL|             No|\n",
            "|1689336|         600|Adult second hear...|Adult social serv...|          NULL|          NULL|      NULL|             No|\n",
            "|1689336|         600|Adult final heari...|Adult social serv...|          NULL|          NULL|      NULL|             No|\n",
            "+-------+------------+--------------------+--------------------+--------------+--------------+----------+---------------+\n",
            "only showing top 20 rows\n",
            "\n"
          ]
        }
      ]
    },
    {
      "cell_type": "code",
      "source": [
        "case_df.select('*').where(case_df['in_case_summary'] == 'Yes').show()"
      ],
      "metadata": {
        "colab": {
          "base_uri": "https://localhost:8080/"
        },
        "id": "AcMI4_ughhpQ",
        "outputId": "4875e9e8-54d0-41af-dc74-56091229fa88"
      },
      "execution_count": 6,
      "outputs": [
        {
          "output_type": "stream",
          "name": "stdout",
          "text": [
            "+-------+------------+--------------------+--------------------+--------------------+--------------+----------+---------------+\n",
            "|case_id|authority_id|      attribute_name|  attribute_category|               value|value_category|value_code|in_case_summary|\n",
            "+-------+------------+--------------------+--------------------+--------------------+--------------+----------+---------------+\n",
            "|1689336|         600| Client project code|      Legal - Client|                NULL|          NULL|      NULL|            Yes|\n",
            "|1689336|         600|      Account number|      Legal - Client|                NULL|          NULL|      NULL|            Yes|\n",
            "|1689336|         600|               Title|        Legal - Case|      Advice on case|          NULL|      NULL|            Yes|\n",
            "|1689336|         600|             Summary|        Legal - Case|                NULL|          NULL|      NULL|            Yes|\n",
            "|1689336|         600|   Adult final order|Adult social serv...|                NULL|          NULL|      NULL|            Yes|\n",
            "|1689336|         600|  Client cost centre|      Legal - Client|                NULL|          NULL|      NULL|            Yes|\n",
            "|1689336|         600|  Client cost centre|      Legal - Client|                NULL|          NULL|      NULL|            Yes|\n",
            "|1689436|         600|  Client cost centre|      Legal - Client|                 DDD|          NULL|      NULL|            Yes|\n",
            "|1689436|         600| Client project code|      Legal - Client|                NULL|          NULL|      NULL|            Yes|\n",
            "|1689436|         600|      Account number|      Legal - Client|                NULL|          NULL|      NULL|            Yes|\n",
            "|1689436|         600|           Work area|        Legal - Case|    Civil Litigation|          NULL|      NULL|            Yes|\n",
            "|1689436|         600|           Work type|        Legal - Case|Civil Lit - Debt ...|          NULL|      NULL|            Yes|\n",
            "|1689436|         600|               Title|        Legal - Case|         Test case 1|          NULL|      NULL|            Yes|\n",
            "|1689436|         600|             Summary|        Legal - Case|                NULL|          NULL|      NULL|            Yes|\n",
            "|1689336|         600|           Work area|        Legal - Case|   Adult Social Care|          NULL|      NULL|            Yes|\n",
            "|1689336|         600|           Work type|        Legal - Case|Proceedings - Cou...|          NULL|      NULL|            Yes|\n",
            "|1689436|         600|Total invoice amount|       Debt recovery|                0.00|          NULL|      NULL|            Yes|\n",
            "|1689436|         600|Outstanding invoi...|       Debt recovery|                1.00|          NULL|      NULL|            Yes|\n",
            "|1689436|         600|     Current balance|       Debt recovery|                0.00|          NULL|      NULL|            Yes|\n",
            "|1689436|         600|           Client ID|      Legal - Client|                NULL|          NULL|      NULL|            Yes|\n",
            "+-------+------------+--------------------+--------------------+--------------------+--------------+----------+---------------+\n",
            "only showing top 20 rows\n",
            "\n"
          ]
        }
      ]
    },
    {
      "cell_type": "code",
      "source": [
        "case_df.select('*').where(case_df['attribute_name'] == 'Title').show()"
      ],
      "metadata": {
        "colab": {
          "base_uri": "https://localhost:8080/"
        },
        "id": "ahRd3YjLiGjg",
        "outputId": "7c21b984-4b35-484a-c72c-3d3aab4c9318"
      },
      "execution_count": 7,
      "outputs": [
        {
          "output_type": "stream",
          "name": "stdout",
          "text": [
            "+-------+------------+--------------+--------------------+--------------------+--------------+----------+---------------+\n",
            "|case_id|authority_id|attribute_name|  attribute_category|               value|value_category|value_code|in_case_summary|\n",
            "+-------+------------+--------------+--------------------+--------------------+--------------+----------+---------------+\n",
            "|1689336|         600|         Title|        Legal - Case|      Advice on case|          NULL|      NULL|            Yes|\n",
            "|1689436|         600|         Title|        Legal - Case|         Test case 1|          NULL|      NULL|            Yes|\n",
            "|1691336|         600|         Title|        Legal - Case|           Test case|          NULL|      NULL|            Yes|\n",
            "|1691636|         600|         Title|        Legal - Case|      CH - Test Case|          NULL|      NULL|            Yes|\n",
            "|1691938|         600|         Title|        Legal - Case|                Test|          NULL|      NULL|            Yes|\n",
            "|1691838|         600|         Title|        Legal - Case|Employment Test Case|          NULL|      NULL|            Yes|\n",
            "|1691737|         600|         Title|        Legal - Case|   General Test Case|          NULL|      NULL|            Yes|\n",
            "|1691839|         600|         Title|        Legal - Case|   Housing Test Case|          NULL|      NULL|            Yes|\n",
            "|1692236|         600|         Title|Case details - Le...|Employment Test M...|          NULL|      NULL|            Yes|\n",
            "|1692436|         600|         Title|        Legal - Case|  SL TEST CASE 07/12|          NULL|      NULL|            Yes|\n",
            "|1710536|         600|         Title|        Legal - Case|        Parking fine|          NULL|      NULL|            Yes|\n",
            "|1693236|         600|         Title|        Legal - Case|       Debt recovery|          NULL|      NULL|            Yes|\n",
            "+-------+------------+--------------+--------------------+--------------------+--------------+----------+---------------+\n",
            "\n"
          ]
        }
      ]
    }
  ]
}